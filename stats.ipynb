{
 "cells": [
  {
   "cell_type": "code",
   "execution_count": 4,
   "id": "39fa7032-7b11-4086-8aee-6a72fbe6f6e8",
   "metadata": {},
   "outputs": [
    {
     "name": "stdout",
     "output_type": "stream",
     "text": [
      "F-value: 0.7128956011311459\n",
      "P-value: 0.6899817578471403\n"
     ]
    }
   ],
   "source": [
    "#que 1\n",
    "import numpy as np\n",
    "import scipy.stats as stats\n",
    "\n",
    "data1 = np.random.randn(10)\n",
    "data2 = np.random.randn(15)\n",
    "\n",
    "f_value, p_value = f_value(data1, data2)\n",
    "\n",
    "print(\"F-value:\", f_value)\n",
    "print(\"P-value:\", p_value)\n"
   ]
  },
  {
   "cell_type": "code",
   "execution_count": 11,
   "id": "d6f4b85f-28d4-435b-aa51-c670a090fef5",
   "metadata": {},
   "outputs": [
    {
     "data": {
      "text/plain": [
       "'import numpy as np\\nimport scipy.stats as stats\\n\\nsignificance_level = 0.05\\ndf_num = 10\\ndf_denom = 15\\n\\ncritical_f_value = critical_f_value(significance_level, df_num, df_denom)\\n\\nprint(\"Critical F-value:\", critical_f_value)'"
      ]
     },
     "execution_count": 11,
     "metadata": {},
     "output_type": "execute_result"
    }
   ],
   "source": [
    "#que 2\n",
    "\"\"\"import numpy as np\n",
    "import scipy.stats as stats\n",
    "\n",
    "significance_level = 0.05\n",
    "df_num = 10\n",
    "df_denom = 15\n",
    "\n",
    "critical_f_value = critical_f_value(significance_level, df_num, df_denom)\n",
    "\n",
    "print(\"Critical F-value:\", critical_f_value)\"\"\"\n",
    "\n"
   ]
  },
  {
   "cell_type": "code",
   "execution_count": 10,
   "id": "14b4705e-8254-4ce7-802d-84ea6f619332",
   "metadata": {},
   "outputs": [
    {
     "name": "stdout",
     "output_type": "stream",
     "text": [
      "F-value: 0.3333333333333333\n",
      "Degrees of freedom: 9 14\n",
      "P-value: 0.9487557471889173\n"
     ]
    }
   ],
   "source": [
    "#que 3\n",
    "import numpy as np\n",
    "import scipy.stats as stats\n",
    "\n",
    "def f_test(data1, data2, var1, var2):\n",
    "  \"\"\"Performs an F-test to determine if the variances of two arrays are equal.\n",
    "\n",
    "  Args:\n",
    "    data1: The first array of data.\n",
    "    data2: The second array of data.\n",
    "    var1: The variance of the first array.\n",
    "    var2: The variance of the second array.\n",
    "\n",
    "  Returns:\n",
    "    The F-value, degrees of freedom, and p-value for the test.\n",
    "  \"\"\"\n",
    "\n",
    "  n1 = len(data1)\n",
    "  n2 = len(data2)\n",
    "  f_value = (var1 / var2) * (n1 / n2)\n",
    "  df_num = n1 - 1\n",
    "  df_denom = n2 - 1\n",
    "  p_value = 1 - stats.f.cdf(f_value, df_num, df_denom)\n",
    "  return f_value, df_num, df_denom, p_value\n",
    "\n",
    "if __name__ == \"__main__\":\n",
    "  # Generate random samples from two normal distributions with known variances.\n",
    "  var1 = 10\n",
    "  var2 = 20\n",
    "  data1 = np.random.normal(0, var1, 10)\n",
    "  data2 = np.random.normal(0, var2, 15)\n",
    "\n",
    "  # Perform the F-test.\n",
    "  f_value, df_num, df_denom, p_value = f_test(data1, data2, var1, var2)\n",
    "\n",
    "  # Print the results of the test.\n",
    "  print(\"F-value:\", f_value)\n",
    "  print(\"Degrees of freedom:\", df_num, df_denom)\n",
    "  print(\"P-value:\", p_value)\n"
   ]
  },
  {
   "cell_type": "code",
   "execution_count": 12,
   "id": "647c58fa-d9b8-4ca4-8efd-8c416843d191",
   "metadata": {},
   "outputs": [
    {
     "name": "stdout",
     "output_type": "stream",
     "text": [
      "F-value: 0.6666666666666666\n",
      "Degrees of freedom: 11 11\n",
      "P-value: 0.7438051006321003\n"
     ]
    }
   ],
   "source": [
    "#que 4\n",
    "import numpy as np\n",
    "import scipy.stats as stats\n",
    "\n",
    "def f_test(var1, var2, n1, n2):\n",
    "  \"\"\"Performs an F-test to determine if the variances of two populations are equal.\n",
    "\n",
    "  Args:\n",
    "    var1: The variance of the first population.\n",
    "    var2: The variance of the second population.\n",
    "    n1: The sample size of the first population.\n",
    "    n2: The sample size of the second population.\n",
    "\n",
    "  Returns:\n",
    "    The F-value, degrees of freedom, and p-value for the test.\n",
    "  \"\"\"\n",
    "\n",
    "  f_value = (var1 / var2) * (n1 / n2)\n",
    "  df_num = n1 - 1\n",
    "  df_denom = n2 - 1\n",
    "  p_value = 1 - stats.f.cdf(f_value, df_num, df_denom)\n",
    "  return f_value, df_num, df_denom, p_value\n",
    "\n",
    "if __name__ == \"__main__\":\n",
    "  # The variances of the two populations are known to be 10 and 15.\n",
    "  var1 = 10\n",
    "  var2 = 15\n",
    "\n",
    "  # We take a sample of 12 observations from each population.\n",
    "  n1 = 12\n",
    "  n2 = 12\n",
    "\n",
    "  # Conduct the F-test.\n",
    "  f_value, df_num, df_denom, p_value = f_test(var1, var2, n1, n2)\n",
    "\n",
    "  # Print the results of the test.\n",
    "  print(\"F-value:\", f_value)\n",
    "  print(\"Degrees of freedom:\", df_num, df_denom)\n",
    "  print(\"P-value:\", p_value)\n"
   ]
  },
  {
   "cell_type": "code",
   "execution_count": 13,
   "id": "90895062-6327-4e7f-93ea-8caf7b4aaeb5",
   "metadata": {},
   "outputs": [
    {
     "name": "stdout",
     "output_type": "stream",
     "text": [
      "F-value: 1.2\n",
      "Degrees of freedom: 24 inf\n",
      "P-value: 1.0\n"
     ]
    }
   ],
   "source": [
    "#que 5\n",
    "import numpy as np\n",
    "import scipy.stats as stats\n",
    "\n",
    "def f_test(var, sample_size, significance_level):\n",
    "  \"\"\"Performs an F-test to determine if the variance of a population is equal to a known value.\n",
    "\n",
    "  Args:\n",
    "    var: The known variance of the population.\n",
    "    sample_size: The sample size.\n",
    "    significance_level: The significance level of the test.\n",
    "\n",
    "  Returns:\n",
    "    The F-value, degrees of freedom, and p-value for the test.\n",
    "  \"\"\"\n",
    "\n",
    "  f_value = sample_variance / var\n",
    "  df_num = sample_size - 1\n",
    "  df_denom = np.inf\n",
    "  p_value = 1 - stats.f.cdf(f_value, df_num, df_denom)\n",
    "  return f_value, df_num, df_denom, p_value\n",
    "\n",
    "if __name__ == \"__main__\":\n",
    "  # The manufacturer claims that the variance of the diameter of a certain product is 0.005.\n",
    "  var = 0.005\n",
    "\n",
    "  # We take a sample of 25 products.\n",
    "  sample_size = 25\n",
    "\n",
    "  # The sample variance is found to be 0.006.\n",
    "  sample_variance = 0.006\n",
    "\n",
    "  # Conduct the F-test.\n",
    "  f_value, df_num, df_denom, p_value = f_test(var, sample_size, significance_level)\n",
    "\n",
    "  # Print the results of the test.\n",
    "  print(\"F-value:\", f_value)\n",
    "  print(\"Degrees of freedom:\", df_num, df_denom)\n",
    "  print(\"P-value:\", p_value)\n"
   ]
  },
  {
   "cell_type": "code",
   "execution_count": 14,
   "id": "56432909-5029-444f-9f0b-86a5965669c0",
   "metadata": {},
   "outputs": [
    {
     "name": "stdout",
     "output_type": "stream",
     "text": [
      "Mean: 0.4\n",
      "Variance: 0.009411764705882352\n"
     ]
    }
   ],
   "source": [
    "#que 6\n",
    "import numpy as np\n",
    "\n",
    "def f_distribution_mean_variance(df_num, df_denom):\n",
    "  \"\"\"Calculates the mean and variance of the F-distribution with the given degrees of freedom.\n",
    "\n",
    "  Args:\n",
    "    df_num: The degrees of freedom for the numerator of the F-distribution.\n",
    "    df_denom: The degrees of freedom for the denominator of the F-distribution.\n",
    "\n",
    "  Returns:\n",
    "    The mean and variance of the distribution as a tuple.\n",
    "  \"\"\"\n",
    "\n",
    "  mean = (df_num / (df_num + df_denom))\n",
    "  variance = (2 * df_num * df_denom) / ((df_num + df_denom) ** 2 * (df_num + df_denom + 1))\n",
    "  return mean, variance\n",
    "\n",
    "if __name__ == \"__main__\":\n",
    "  # The degrees of freedom for the numerator and denominator of the F-distribution.\n",
    "  df_num = 20\n",
    "  df_denom = 30\n",
    "\n",
    "  # Calculate the mean and variance of the distribution.\n",
    "  mean, variance = f_distribution_mean_variance(df_num, df_denom)\n",
    "\n",
    "  # Print the results.\n",
    "  print(\"Mean:\", mean)\n",
    "  print(\"Variance:\", variance)\n"
   ]
  },
  {
   "cell_type": "code",
   "execution_count": 15,
   "id": "d209972a-dd70-4ca9-8c93-384070e79a53",
   "metadata": {},
   "outputs": [
    {
     "name": "stdout",
     "output_type": "stream",
     "text": [
      "F-value: 0.8333333333333333\n",
      "Degrees of freedom: 9 14\n",
      "P-value: 0.5982154263386112\n"
     ]
    }
   ],
   "source": [
    "#que 7\n",
    "import numpy as np\n",
    "import scipy.stats as stats\n",
    "\n",
    "def f_test(sample_variance1, sample_size1, sample_variance2, sample_size2, significance_level):\n",
    "  \"\"\"Performs an F-test to determine if the variances of two populations are equal.\n",
    "\n",
    "  Args:\n",
    "    sample_variance1: The sample variance of the first population.\n",
    "    sample_size1: The sample size of the first population.\n",
    "    sample_variance2: The sample variance of the second population.\n",
    "    sample_size2: The sample size of the second population.\n",
    "    significance_level: The significance level of the test.\n",
    "\n",
    "  Returns:\n",
    "    The F-value, degrees of freedom, and p-value for the test.\n",
    "  \"\"\"\n",
    "\n",
    "  f_value = (sample_variance1 / sample_variance2) * (sample_size1 / sample_size2)\n",
    "  df_num = sample_size1 - 1\n",
    "  df_denom = sample_size2 - 1\n",
    "  p_value = 1 - stats.f.cdf(f_value, df_num, df_denom)\n",
    "  return f_value, df_num, df_denom, p_value\n",
    "\n",
    "if __name__ == \"__main__\":\n",
    "  # The sample variances of the two populations.\n",
    "  sample_variance1 = 25\n",
    "  sample_variance2 = 20\n",
    "\n",
    "  # The sample sizes of the two populations.\n",
    "  sample_size1 = 10\n",
    "  sample_size2 = 15\n",
    "\n",
    "  # The significance level of the test.\n",
    "  significance_level = 0.1\n",
    "\n",
    "  # Conduct the F-test.\n",
    "  f_value, df_num, df_denom, p_value = f_test(sample_variance1, sample_size1, sample_variance2,\n",
    "                                                 sample_size2, significance_level)\n",
    "\n",
    "  # Print the results of the test.\n",
    "  print(\"F-value:\", f_value)\n",
    "  print(\"Degrees of freedom:\", df_num, df_denom)\n",
    "  print(\"P-value:\", p_value)\n"
   ]
  },
  {
   "cell_type": "code",
   "execution_count": null,
   "id": "1528dd00-9c4c-442c-b176-5de877451995",
   "metadata": {},
   "outputs": [],
   "source": [
    "#que 8\n",
    "import numpy as np\n",
    "import scipy.stats as stats\n",
    "\n",
    "def f_test(data1, data2, significance_level):\n",
    "  \"\"\"Performs an F-test to determine if the variances of two populations are equal.\n",
    "\n",
    "  Args:\n",
    "    data1: The data from the first population.\n",
    "    data2: The data from the second population.\n",
    "    significance_level: The significance level of the test.\n",
    "\n",
    "  Returns:\n",
    "    The F-value, degrees of freedom, and p-value for the test.\n",
    "  \"\"\"\n",
    "\n",
    "  sample_variance1 = np.var(data1)\n",
    "  sample_variance2 = np.var(data2)\n",
    "\n",
    "  # The sample sizes of the two populations.\n",
    "  sample_size1 = len(data1)\n",
    "  sample_size2 = len(data2)\n",
    "\n",
    "  # The significance level of the test.\n",
    "  significance_level = 0.05\n",
    "\n",
    "  # Conduct the F-test.\n",
    "  f_value, df_num, df_denom, p_value = f_test(sample_variance1, sample_size1, sample_variance2,\n",
    "                                                 sample_size2, significance_level)\n",
    "\n",
    "  # Print the results of the test.\n",
    "  print(\"F-value:\", f_value)\n",
    "  print(\"Degrees of freedom:\", df_num, df_denom)\n",
    "  print(\"P-value:\", p_value)\n"
   ]
  },
  {
   "cell_type": "code",
   "execution_count": 18,
   "id": "f6eaf08a-e6b9-41f9-81bb-027c55e228c3",
   "metadata": {},
   "outputs": [],
   "source": [
    "#que 9\n",
    "import numpy as np\n",
    "import scipy.stats as stats\n",
    "\n",
    "def f_test(data1, data2, significance_level):\n",
    "  \"\"\"Performs an F-test to determine if the variances of two populations are equal.\n",
    "\n",
    "  Args:\n",
    "    data1: The data from the first population.\n",
    "    data2: The data from the second population.\n",
    "    significance_level: The significance level of the test.\n",
    "\n",
    "  Returns:\n",
    "    The F-value, degrees of freedom, and p-value for the test.\n",
    "  \"\"\"\n",
    "\n",
    "  sample_variance1 = np.var(data1)\n",
    "  sample_variance2 = np.var(data2)\n",
    "\n",
    "  # The sample sizes of the two populations.\n",
    "  sample_size1 = len(data1)\n",
    "  sample_size2 = len(data2)\n",
    "\n",
    "  # The significance level of the test.\n",
    "  significance_level = 0.01\n",
    "\n",
    "  # Conduct the F-test.\n",
    "  f_value, df_num, df_denom, p_value = f_test(sample_variance1, sample_size1, sample_variance2,\n",
    "                                                 sample_size2, significance_level)\n",
    "\n",
    "  # Print the results of the test.\n",
    "  print(\"F-value:\", f_value)\n",
    "  print(\"Degrees of freedom:\", df_num, df_denom)\n",
    "  print(\"P-value:\", p_value)\n"
   ]
  },
  {
   "cell_type": "code",
   "execution_count": null,
   "id": "955fb8f0-4c6b-41b7-86a2-f4b87b3e80b7",
   "metadata": {},
   "outputs": [],
   "source": []
  }
 ],
 "metadata": {
  "kernelspec": {
   "display_name": "Python 3 (ipykernel)",
   "language": "python",
   "name": "python3"
  },
  "language_info": {
   "codemirror_mode": {
    "name": "ipython",
    "version": 3
   },
   "file_extension": ".py",
   "mimetype": "text/x-python",
   "name": "python",
   "nbconvert_exporter": "python",
   "pygments_lexer": "ipython3",
   "version": "3.10.8"
  }
 },
 "nbformat": 4,
 "nbformat_minor": 5
}
